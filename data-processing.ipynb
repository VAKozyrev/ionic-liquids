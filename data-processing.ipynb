{
 "cells": [
  {
   "cell_type": "markdown",
   "metadata": {},
   "source": [
    "# KEGG Compounds Processing"
   ]
  },
  {
   "cell_type": "code",
   "execution_count": null,
   "metadata": {},
   "outputs": [],
   "source": [
    "import pandas as pd\n",
    "from Bio.KEGG.Compound import parse\n",
    "from rdkit import Chem"
   ]
  },
  {
   "cell_type": "code",
   "execution_count": null,
   "metadata": {},
   "outputs": [],
   "source": [
    "data = []\n",
    "with open(f'data/compounds.kegg', 'r') as file:\n",
    "        for record in parse(file):\n",
    "            data.append(record.__dict__)\n",
    "df = pd.DataFrame(data)"
   ]
  },
  {
   "cell_type": "code",
   "execution_count": null,
   "metadata": {},
   "outputs": [],
   "source": [
    "#Get SMILES with removed stereochemistry for every compound from the .mol file\n",
    "suppl = Chem.SDMolSupplier('data/compounds.mol')\n",
    "ids_list=[]\n",
    "smiles_list = []\n",
    "for mol in suppl:\n",
    "    if mol:\n",
    "        ids_list.append(mol.GetProp('ENTRY').replace('cpd:', ''))\n",
    "        smiles_list.append(Chem.MolToSmiles(mol))\n",
    "id_to_smiles_map = dict(zip(ids_list, smiles_list))\n",
    "df['smiles'] = df['entry'].map(id_to_smiles_map)"
   ]
  },
  {
   "cell_type": "code",
   "execution_count": null,
   "metadata": {},
   "outputs": [],
   "source": [
    "#Substitute empty lists and strings with NaN\n",
    "df = df.map(lambda x: pd.NA if (x == '' or (isinstance(x, list) and len(x) == 0)) else x)\n",
    "df.info()"
   ]
  },
  {
   "cell_type": "markdown",
   "metadata": {},
   "source": [
    "Only 6578 compounds from KEGG have associated pathways"
   ]
  },
  {
   "cell_type": "code",
   "execution_count": null,
   "metadata": {},
   "outputs": [],
   "source": [
    "df.dropna(subset=['pathway', 'smiles'], inplace=True)\n",
    "df.drop(columns=['structures', 'mass', 'formula'], inplace=True)\n",
    "df = df[~df['smiles'].str.contains(\"\\\\*\")]\n",
    "df.info()"
   ]
  },
  {
   "cell_type": "code",
   "execution_count": null,
   "metadata": {},
   "outputs": [],
   "source": [
    "df.to_csv('data/compounds-parsed.tsv', sep='\\t', index=False)"
   ]
  },
  {
   "cell_type": "markdown",
   "metadata": {},
   "source": [
    "# Commercial IL Processing"
   ]
  },
  {
   "cell_type": "code",
   "execution_count": null,
   "metadata": {},
   "outputs": [],
   "source": [
    "df = pd.concat([\n",
    "    pd.read_csv('data/proionic-raw.tsv', delimiter='\\t'),\n",
    "    pd.read_csv('data/iolitec-raw.tsv', delimiter='\\t')\n",
    "])\n",
    "df"
   ]
  },
  {
   "cell_type": "code",
   "execution_count": null,
   "metadata": {},
   "outputs": [],
   "source": [
    "df[\"name\"] = (\n",
    "    df[\"name\"]\n",
    "    .str.replace(r\",\\s*[><]?\\d+%\", \"\", regex=True)  # remove the comma and percentage pattern\n",
    "    .str.strip()                                    # strip leading/trailing whitespace\n",
    ")\n",
    "df"
   ]
  },
  {
   "cell_type": "code",
   "execution_count": null,
   "metadata": {},
   "outputs": [],
   "source": [
    "df = df.dropna(subset=['name','cas'], how='all')"
   ]
  },
  {
   "cell_type": "code",
   "execution_count": null,
   "metadata": {},
   "outputs": [],
   "source": [
    "import pubchempy as pcp"
   ]
  },
  {
   "cell_type": "code",
   "execution_count": null,
   "metadata": {},
   "outputs": [],
   "source": [
    "def get_smiles(name, cas):\n",
    "    compounds = pcp.get_compounds(cas, 'name')\n",
    "    if not compounds:\n",
    "        compounds = pcp.get_compounds(name, 'name')\n",
    "\n",
    "    return compounds[0].isomeric_smiles if compounds else None"
   ]
  },
  {
   "cell_type": "code",
   "execution_count": null,
   "metadata": {},
   "outputs": [],
   "source": [
    "smiles_list=[]\n",
    "for name, cas in zip(df.name, df.cas):\n",
    "    try:\n",
    "        smi = get_smiles(name, cas)\n",
    "        smiles_list.append(smi)\n",
    "    except:\n",
    "        smiles_list.append(None)\n",
    "        continue"
   ]
  },
  {
   "cell_type": "code",
   "execution_count": null,
   "metadata": {},
   "outputs": [],
   "source": [
    "df['smiles'] = smiles_list\n",
    "df"
   ]
  },
  {
   "cell_type": "code",
   "execution_count": null,
   "metadata": {},
   "outputs": [],
   "source": [
    "df.dropna(subset=['smiles'], inplace=True)\n",
    "df = df[df['smiles'].str.contains('\\.')]\n",
    "df"
   ]
  },
  {
   "cell_type": "code",
   "execution_count": null,
   "metadata": {},
   "outputs": [],
   "source": [
    "from molvs import standardize_smiles\n",
    "df['smiles'] = df['smiles'].apply(standardize_smiles)\n",
    "df"
   ]
  },
  {
   "cell_type": "code",
   "execution_count": null,
   "metadata": {},
   "outputs": [],
   "source": [
    "from rdkit import Chem\n",
    "def split_il_smiles(smiles):\n",
    "    fragments = smiles.split('.')\n",
    "    for fragment in fragments:\n",
    "        mol = Chem.MolFromSmiles(fragment)\n",
    "        charge = Chem.GetFormalCharge(mol) \n",
    "        if charge > 0:\n",
    "            cation_smiles = fragment\n",
    "        elif charge < 0:\n",
    "            anion_smiles = fragment\n",
    "        else:\n",
    "            return None, None\n",
    "\n",
    "    return cation_smiles, anion_smiles"
   ]
  },
  {
   "cell_type": "code",
   "execution_count": null,
   "metadata": {},
   "outputs": [],
   "source": [
    "df[['cation', 'anion']] = df['smiles'].apply(split_il_smiles).apply(pd.Series)\n",
    "df"
   ]
  },
  {
   "cell_type": "code",
   "execution_count": null,
   "metadata": {},
   "outputs": [],
   "source": [
    "df = df.dropna(subset=['cation', 'anion'], how='all')[['smiles','cation','anion','name','cas', 'url']]\n",
    "df"
   ]
  },
  {
   "cell_type": "code",
   "execution_count": null,
   "metadata": {},
   "outputs": [],
   "source": [
    "df.to_csv('data/commercial-il.tsv', sep='\\t', index=False)"
   ]
  }
 ],
 "metadata": {
  "kernelspec": {
   "display_name": "Python 3 (ipykernel)",
   "language": "python",
   "name": "python3"
  }
 },
 "nbformat": 4,
 "nbformat_minor": 2
}
